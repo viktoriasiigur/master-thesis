{
 "cells": [
  {
   "cell_type": "markdown",
   "id": "cbd6c1fa-e298-4e8c-88f6-1a1e57bb1590",
   "metadata": {},
   "source": [
    "### Task 3 \n",
    "\n",
    "Compare the embedded approach results with the test set\n",
    "\n",
    "1. Random data removing - 10 points per 24h period\n",
    "2. Calculate the error between the imputed data and actual data.\n",
    "3. Do it 10 000 times for each file\n",
    "4. Calculate summary statistics the errors for each hour for each file (https://pandas.pydata.org/pandas-docs/stable/getting_started/intro_tutorials/06_calculate_statistics.html, https://www.geeksforgeeks.org/box-plot-in-python-using-matplotlib/)\n",
    "5. One box plot for 24h for each sensor."
   ]
  },
  {
   "cell_type": "code",
   "execution_count": null,
   "id": "4b2a5f9a-6cf3-4ef5-aa0c-83500cb7812b",
   "metadata": {},
   "outputs": [],
   "source": [
    "import pandas as pd\n",
    "import os\n",
    "import matplotlib.pyplot as plt\n",
    "import numpy as np\n",
    "import matplotlib.dates as mdates\n",
    "import time"
   ]
  },
  {
   "cell_type": "code",
   "execution_count": null,
   "id": "f3f3a312-cb04-4f25-aa8a-f5d81667ca15",
   "metadata": {},
   "outputs": [],
   "source": [
    "### Get all the paths\n",
    "\n",
    "paths = []\n",
    "\n",
    "for root, dirs, files in os.walk(\"data/data SPL August 2022 all\", topdown=False):\n",
    "    for name in files:\n",
    "        paths.append(os.path.join(root, name))"
   ]
  },
  {
   "cell_type": "code",
   "execution_count": null,
   "id": "59941f9b-98d4-485f-a713-a1fd36ed3fd8",
   "metadata": {},
   "outputs": [],
   "source": [
    "def get_data_with_nans(df):\n",
    "    full_time_range = pd.date_range(start=df[\"Time\"].min(), end=df[\"Time\"].max(), freq=\"min\")\n",
    "    df = df.set_index(\"Time\").reindex(full_time_range)\n",
    "    df = df.rename_axis(\"Time\").reset_index()\n",
    "    df[\"time_diff\"] = df[\"Time\"].diff().dt.total_seconds()\n",
    "    df[\"dt_sound_level_dB\"] = np.where((df[\"time_diff\"] == 60) | (df.index == 0), df[\"dt_sound_level_dB\"], np.nan)\n",
    "    df = df.drop(columns=[\"time_diff\"])\n",
    "    return df\n",
    "\n",
    "def get_clean_dataframe(path):\n",
    "    data = pd.read_csv(path)\n",
    "    df = pd.DataFrame(data)\n",
    "    df[\"Time\"] = pd.to_datetime(df[\"Time\"])\n",
    "    df = df.drop_duplicates(subset=[\"Time\"], keep=False) \n",
    "    df = get_data_with_nans(df)\n",
    "    df[\"hour\"] = df[\"Time\"].dt.hour\n",
    "    df[\"minute\"] = df[\"Time\"].dt.minute\n",
    "    return df"
   ]
  },
  {
   "cell_type": "code",
   "execution_count": null,
   "id": "3ea9f6c2-fd0d-45a2-81d0-56505a45498e",
   "metadata": {},
   "outputs": [],
   "source": [
    "def get_samples(df, random_state):\n",
    "    # Extract 10 random values per 24-hour period\n",
    "    df[\"date\"] = df[\"Time\"].dt.date\n",
    "    grouped = df[df[\"dt_sound_level_dB\"].notna()].groupby(\"date\")\n",
    "\n",
    "    sampled_data = grouped.sample(n=10, random_state=random_state)\n",
    "    remaining_data = df.copy()\n",
    "    remaining_data.loc[sampled_data.index, \"dt_sound_level_dB\"] = np.nan\n",
    "    return sampled_data, remaining_data"
   ]
  },
  {
   "cell_type": "code",
   "execution_count": null,
   "id": "527f491c-a77c-43a7-9521-3bc7742fe960",
   "metadata": {},
   "outputs": [],
   "source": [
    "def get_median_values(group):\n",
    "    return np.ceil(group.median())\n",
    "\n",
    "def get_imputed_data(df):\n",
    "    imputed_values = df.groupby([\"hour\", \"minute\"])[\"dt_sound_level_dB\"].transform(get_median_values)\n",
    "    if imputed_values.isna().any():\n",
    "        imputed_values = imputed_values.interpolate(method=\"linear\", limit_direction=\"both\")\n",
    "        \n",
    "    df[\"dt_sound_level_dB\"] = df[\"dt_sound_level_dB\"].fillna(imputed_values)\n",
    "    return df"
   ]
  },
  {
   "cell_type": "code",
   "execution_count": null,
   "id": "70b474c0-c3c0-4309-b518-838ef0b6874c",
   "metadata": {},
   "outputs": [],
   "source": [
    "def get_error_stats(path):\n",
    "    dataframe = get_clean_dataframe(path)\n",
    "    error_data = []\n",
    "    \n",
    "    for iteration in range(10000):\n",
    "        start_time = np.floor(time.time() * 1000)\n",
    "        sampled_data, remaining_data = get_samples(dataframe, random_state=iteration)\n",
    "        imputed_data = get_imputed_data(remaining_data)\n",
    "        sampled_data_indices = sampled_data.index.to_numpy()\n",
    "        imputed_subset = imputed_data.loc[sampled_data_indices]\n",
    "        error = pd.DataFrame()\n",
    "        error['error_db_level'] = np.abs(sampled_data[\"dt_sound_level_dB\"] - imputed_subset[\"dt_sound_level_dB\"])\n",
    "        error['hour'] = imputed_subset['hour']\n",
    "        error['iteration'] = iteration\n",
    "        error_data.append(error)\n",
    "        print(str(iteration) + \". duration:\", np.floor(time.time() * 1000) - start_time)\n",
    "\n",
    "    errors = pd.concat(error_data, ignore_index=True)\n",
    "    grouped_data = errors.groupby('hour')['error_db_level'].agg(list)\n",
    "    return grouped_data"
   ]
  },
  {
   "cell_type": "code",
   "execution_count": null,
   "id": "9382672c-c003-4650-bcd0-8749daa32084",
   "metadata": {},
   "outputs": [],
   "source": [
    "def create_box_plot(path):\n",
    "    error_stats = get_error_stats(path)\n",
    "    plt.figure(figsize=(12, 6))\n",
    "    plt.boxplot(error_stats)\n",
    "    \n",
    "    plt.title(path)\n",
    "    plt.xlabel(\"Hour of the Day\")\n",
    "    plt.ylabel(\"Error (dB)\")\n",
    "    \n",
    "    filename = path.replace(\"data/data SPL August 2022 all/\", \"\").replace(\".csv\", \"\")\n",
    "    plt.savefig(f\"box_plots/{filename}.png\")"
   ]
  },
  {
   "cell_type": "code",
   "execution_count": null,
   "id": "a3363b71-7c05-41a0-81d8-b426a24e3e59",
   "metadata": {},
   "outputs": [],
   "source": [
    "def create_plots_for_all_sensors():\n",
    "    for path in paths[13:]:\n",
    "        start_time = np.floor(time.time() * 1000)\n",
    "        create_box_plot(path)\n",
    "        print(\"Total duration for 1 plot: \", np.floor(time.time() * 1000) - start_time)\n",
    "create_plots_for_all_sensors()"
   ]
  },
  {
   "cell_type": "code",
   "execution_count": null,
   "id": "fc690640-97e6-4e3c-b717-55b1de2a024e",
   "metadata": {},
   "outputs": [],
   "source": [
    "def plot(path, timestamps, db_levels, interval):    \n",
    "    plt.figure(figsize=(16, 3))\n",
    "    plt.step(timestamps, db_levels, label=\"SPL (dB)\")\n",
    "    plt.gca().xaxis.set_major_formatter(mdates.DateFormatter('%Y-%m-%d %H:%M'))\n",
    "    plt.gca().xaxis.set_major_locator(mdates.MinuteLocator(interval=interval))\n",
    "    plt.title(path)\n",
    "    plt.xlabel(\"Time\")\n",
    "    plt.ylabel(\"Decibels (dB)\")\n",
    "    plt.grid(True)\n",
    "    plt.xticks(rotation=90)\n",
    "    y_min = db_levels.min()\n",
    "    y_max = db_levels.max()\n",
    "    y_ticks = np.arange(y_min, y_max, 1)\n",
    "    plt.yticks(y_ticks)\n",
    "    plt.legend()\n",
    "    plt.show()"
   ]
  },
  {
   "cell_type": "code",
   "execution_count": null,
   "id": "ced4a921-c20b-42cc-af00-969a62f21d24",
   "metadata": {},
   "outputs": [],
   "source": [
    "# for check purposes\n",
    "\n",
    "def get_one_sensor_plot(path, start_time, end_time, interval=1):\n",
    "    df = get_clean_dataframe(path)\n",
    "    df = df[(df[\"Time\"] >= start_time) & (df[\"Time\"] < end_time)]\n",
    "    plot(path, df['Time'], df['dt_sound_level_dB'], interval=interval)\n",
    "\n",
    "get_one_sensor_plot(path=paths[0], start_time=\"2022-08-01 02:07:00\", end_time=\"2022-08-01 03:07:00\")"
   ]
  },
  {
   "cell_type": "code",
   "execution_count": null,
   "id": "5410969b-38dd-4e3d-a619-a0ff15eccd81",
   "metadata": {},
   "outputs": [],
   "source": [
    "def get_one_sensor_imputed_plot(path, start_time, end_time, interval=1):\n",
    "    df = get_clean_dataframe(path)\n",
    "    df = get_imputed_data(df)\n",
    "    df = df[(df[\"Time\"] >= start_time) & (df[\"Time\"] < end_time)]\n",
    "    plot(paths[0], df['Time'], df['dt_sound_level_dB'], interval=interval)\n",
    "    \n",
    "get_one_sensor_imputed_plot(path=paths[0], start_time=\"2022-08-01 02:07:00\", end_time=\"2022-08-01 03:07:00\")"
   ]
  }
 ],
 "metadata": {
  "kernelspec": {
   "display_name": "Python 3",
   "language": "python",
   "name": "python3"
  },
  "language_info": {
   "codemirror_mode": {
    "name": "ipython",
    "version": 3
   },
   "file_extension": ".py",
   "mimetype": "text/x-python",
   "name": "python",
   "nbconvert_exporter": "python",
   "pygments_lexer": "ipython3",
   "version": "3.9.6"
  }
 },
 "nbformat": 4,
 "nbformat_minor": 5
}
