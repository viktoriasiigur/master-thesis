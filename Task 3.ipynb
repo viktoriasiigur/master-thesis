{
 "cells": [
  {
   "cell_type": "markdown",
   "id": "cbd6c1fa-e298-4e8c-88f6-1a1e57bb1590",
   "metadata": {},
   "source": [
    "### Task 3\n",
    "\n",
    "1. Fill in the missing data based on the nearest sensors.\n",
    "2. Research \"kriging\""
   ]
  }
 ],
 "metadata": {
  "kernelspec": {
   "display_name": "Python 3 (ipykernel)",
   "language": "python",
   "name": "python3"
  },
  "language_info": {
   "codemirror_mode": {
    "name": "ipython",
    "version": 3
   },
   "file_extension": ".py",
   "mimetype": "text/x-python",
   "name": "python",
   "nbconvert_exporter": "python",
   "pygments_lexer": "ipython3",
   "version": "3.9.6"
  }
 },
 "nbformat": 4,
 "nbformat_minor": 5
}
