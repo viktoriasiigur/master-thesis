{
 "cells": [
  {
   "cell_type": "markdown",
   "id": "cbd6c1fa-e298-4e8c-88f6-1a1e57bb1590",
   "metadata": {},
   "source": [
    "### Task 3 \n",
    "\n",
    "Compare the embedded approach results with the test set\n",
    "\n",
    "1. Random data removing - 10 points per 24h period\n",
    "2. Calculate the error between the imputed data and actual data.\n",
    "3. Do it 10 000 times for each file\n",
    "4. Calculate summary statistics the errors for each hour for each file (https://pandas.pydata.org/pandas-docs/stable/getting_started/intro_tutorials/06_calculate_statistics.html, https://www.geeksforgeeks.org/box-plot-in-python-using-matplotlib/)\n",
    "5. One box plot for 24h for each sensor."
   ]
  },
  {
   "cell_type": "code",
   "execution_count": null,
   "id": "4b2a5f9a-6cf3-4ef5-aa0c-83500cb7812b",
   "metadata": {},
   "outputs": [],
   "source": []
  },
  {
   "cell_type": "code",
   "execution_count": null,
   "id": "f3f3a312-cb04-4f25-aa8a-f5d81667ca15",
   "metadata": {},
   "outputs": [],
   "source": []
  }
 ],
 "metadata": {
  "kernelspec": {
   "display_name": "Python 3 (ipykernel)",
   "language": "python",
   "name": "python3"
  },
  "language_info": {
   "codemirror_mode": {
    "name": "ipython",
    "version": 3
   },
   "file_extension": ".py",
   "mimetype": "text/x-python",
   "name": "python",
   "nbconvert_exporter": "python",
   "pygments_lexer": "ipython3",
   "version": "3.9.6"
  }
 },
 "nbformat": 4,
 "nbformat_minor": 5
}
