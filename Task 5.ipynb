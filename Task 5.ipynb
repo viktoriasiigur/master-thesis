{
 "cells": [
  {
   "cell_type": "markdown",
   "id": "bb41a051-a97f-40c2-bbd4-fbb53de9a9df",
   "metadata": {},
   "source": [
    "### Task 5\n",
    "\n",
    "1. Fill in the missing data based on the nearest sensors.\n",
    "2. Research \"kriging\"\n",
    "3. Compare the kriging approach results with the test set\n",
    "  \n",
    "* [Monte Carlo](https://machinelearningmastery.com/monte-carlo-sampling-for-probability/)\n",
    "* [Bootstraping](https://builtin.com/data-science/bootstrapping-statistics)\n",
    "* [Jackknifing](https://en.wikipedia.org/wiki/Jackknife_resampling)"
   ]
  },
  {
   "cell_type": "code",
   "execution_count": null,
   "id": "ce2e9660-ae7e-48b2-913b-2f4e0c383f78",
   "metadata": {},
   "outputs": [],
   "source": []
  },
  {
   "cell_type": "code",
   "execution_count": null,
   "id": "da8562e8-c628-498b-9d73-e33ea43acaa0",
   "metadata": {},
   "outputs": [],
   "source": []
  }
 ],
 "metadata": {
  "kernelspec": {
   "display_name": "Python 3 (ipykernel)",
   "language": "python",
   "name": "python3"
  },
  "language_info": {
   "codemirror_mode": {
    "name": "ipython",
    "version": 3
   },
   "file_extension": ".py",
   "mimetype": "text/x-python",
   "name": "python",
   "nbconvert_exporter": "python",
   "pygments_lexer": "ipython3",
   "version": "3.9.6"
  }
 },
 "nbformat": 4,
 "nbformat_minor": 5
}
